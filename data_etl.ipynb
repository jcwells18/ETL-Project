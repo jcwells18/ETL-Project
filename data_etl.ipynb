{
 "metadata": {
  "language_info": {
   "codemirror_mode": {
    "name": "ipython",
    "version": 3
   },
   "file_extension": ".py",
   "mimetype": "text/x-python",
   "name": "python",
   "nbconvert_exporter": "python",
   "pygments_lexer": "ipython3",
   "version": "3.8.5-final"
  },
  "orig_nbformat": 2,
  "kernelspec": {
   "name": "python3",
   "display_name": "Python 3.8.5 64-bit (conda)",
   "metadata": {
    "interpreter": {
     "hash": "320b063615c881cf99d5bda0a05a87a093cceae5b3aed84278fa7ef3d4b95f2a"
    }
   }
  }
 },
 "nbformat": 4,
 "nbformat_minor": 2,
 "cells": [
  {
   "cell_type": "code",
   "execution_count": 24,
   "metadata": {},
   "outputs": [],
   "source": [
    "#import necessary libraries\n",
    "import pandas as pd\n",
    "from sqlalchemy import create_engine"
   ]
  },
  {
   "cell_type": "code",
   "execution_count": 25,
   "metadata": {},
   "outputs": [
    {
     "output_type": "execute_result",
     "data": {
      "text/plain": [
       "   unnamed: 0  id                           title  year  age  imdb  \\\n",
       "0           0   1                       Inception  2010  13+   8.8   \n",
       "1           1   2                      The Matrix  1999  18+   8.7   \n",
       "2           2   3          Avengers: Infinity War  2018  13+   8.5   \n",
       "3           3   4              Back to the Future  1985   7+   8.5   \n",
       "4           4   5  The Good, the Bad and the Ugly  1966  18+   8.8   \n",
       "\n",
       "   rotten tomatoes  netflix  hulu  prime video  disney+  type  \\\n",
       "0              8.7        1     0            0        0     0   \n",
       "1              8.7        1     0            0        0     0   \n",
       "2              8.4        1     0            0        0     0   \n",
       "3              9.6        1     0            0        0     0   \n",
       "4              9.7        1     0            1        0     0   \n",
       "\n",
       "                        directors                            genres  \\\n",
       "0               Christopher Nolan  Action,Adventure,Sci-Fi,Thriller   \n",
       "1  Lana Wachowski,Lilly Wachowski                     Action,Sci-Fi   \n",
       "2         Anthony Russo,Joe Russo           Action,Adventure,Sci-Fi   \n",
       "3                 Robert Zemeckis           Adventure,Comedy,Sci-Fi   \n",
       "4                    Sergio Leone                           Western   \n",
       "\n",
       "                        country                 language  runtime  \\\n",
       "0  United States,United Kingdom  English,Japanese,French    148.0   \n",
       "1                 United States                  English    136.0   \n",
       "2                 United States                  English    149.0   \n",
       "3                 United States                  English    116.0   \n",
       "4      Italy,Spain,West Germany                  Italian    161.0   \n",
       "\n",
       "   total_streaming_platforms  \n",
       "0                          1  \n",
       "1                          1  \n",
       "2                          1  \n",
       "3                          1  \n",
       "4                          2  "
      ],
      "text/html": "<div>\n<style scoped>\n    .dataframe tbody tr th:only-of-type {\n        vertical-align: middle;\n    }\n\n    .dataframe tbody tr th {\n        vertical-align: top;\n    }\n\n    .dataframe thead th {\n        text-align: right;\n    }\n</style>\n<table border=\"1\" class=\"dataframe\">\n  <thead>\n    <tr style=\"text-align: right;\">\n      <th></th>\n      <th>unnamed: 0</th>\n      <th>id</th>\n      <th>title</th>\n      <th>year</th>\n      <th>age</th>\n      <th>imdb</th>\n      <th>rotten tomatoes</th>\n      <th>netflix</th>\n      <th>hulu</th>\n      <th>prime video</th>\n      <th>disney+</th>\n      <th>type</th>\n      <th>directors</th>\n      <th>genres</th>\n      <th>country</th>\n      <th>language</th>\n      <th>runtime</th>\n      <th>total_streaming_platforms</th>\n    </tr>\n  </thead>\n  <tbody>\n    <tr>\n      <th>0</th>\n      <td>0</td>\n      <td>1</td>\n      <td>Inception</td>\n      <td>2010</td>\n      <td>13+</td>\n      <td>8.8</td>\n      <td>8.7</td>\n      <td>1</td>\n      <td>0</td>\n      <td>0</td>\n      <td>0</td>\n      <td>0</td>\n      <td>Christopher Nolan</td>\n      <td>Action,Adventure,Sci-Fi,Thriller</td>\n      <td>United States,United Kingdom</td>\n      <td>English,Japanese,French</td>\n      <td>148.0</td>\n      <td>1</td>\n    </tr>\n    <tr>\n      <th>1</th>\n      <td>1</td>\n      <td>2</td>\n      <td>The Matrix</td>\n      <td>1999</td>\n      <td>18+</td>\n      <td>8.7</td>\n      <td>8.7</td>\n      <td>1</td>\n      <td>0</td>\n      <td>0</td>\n      <td>0</td>\n      <td>0</td>\n      <td>Lana Wachowski,Lilly Wachowski</td>\n      <td>Action,Sci-Fi</td>\n      <td>United States</td>\n      <td>English</td>\n      <td>136.0</td>\n      <td>1</td>\n    </tr>\n    <tr>\n      <th>2</th>\n      <td>2</td>\n      <td>3</td>\n      <td>Avengers: Infinity War</td>\n      <td>2018</td>\n      <td>13+</td>\n      <td>8.5</td>\n      <td>8.4</td>\n      <td>1</td>\n      <td>0</td>\n      <td>0</td>\n      <td>0</td>\n      <td>0</td>\n      <td>Anthony Russo,Joe Russo</td>\n      <td>Action,Adventure,Sci-Fi</td>\n      <td>United States</td>\n      <td>English</td>\n      <td>149.0</td>\n      <td>1</td>\n    </tr>\n    <tr>\n      <th>3</th>\n      <td>3</td>\n      <td>4</td>\n      <td>Back to the Future</td>\n      <td>1985</td>\n      <td>7+</td>\n      <td>8.5</td>\n      <td>9.6</td>\n      <td>1</td>\n      <td>0</td>\n      <td>0</td>\n      <td>0</td>\n      <td>0</td>\n      <td>Robert Zemeckis</td>\n      <td>Adventure,Comedy,Sci-Fi</td>\n      <td>United States</td>\n      <td>English</td>\n      <td>116.0</td>\n      <td>1</td>\n    </tr>\n    <tr>\n      <th>4</th>\n      <td>4</td>\n      <td>5</td>\n      <td>The Good, the Bad and the Ugly</td>\n      <td>1966</td>\n      <td>18+</td>\n      <td>8.8</td>\n      <td>9.7</td>\n      <td>1</td>\n      <td>0</td>\n      <td>1</td>\n      <td>0</td>\n      <td>0</td>\n      <td>Sergio Leone</td>\n      <td>Western</td>\n      <td>Italy,Spain,West Germany</td>\n      <td>Italian</td>\n      <td>161.0</td>\n      <td>2</td>\n    </tr>\n  </tbody>\n</table>\n</div>"
     },
     "metadata": {},
     "execution_count": 25
    }
   ],
   "source": [
    "#bring in csv from files\n",
    "streaming_csv = \"Resources/MoviesOnStreamingPlatforms_updated.csv\"\n",
    "streaming_df = pd.read_csv(streaming_csv)\n",
    "streaming_df.head()\n",
    "\n",
    "#make column names lowercase\n",
    "streaming_df.columns = streaming_df.columns.str.lower()\n",
    "\n",
    "#convert rotten tomatoes rating to string (replace %) then convert to string and divide by 10 \n",
    "streaming_df['rotten tomatoes']=streaming_df['rotten tomatoes'].str.replace(r'%', r'.0').astype('float') / 10.0\n",
    "\n",
    "#sum of streaming columns to calculate total streaming platforms per movie\n",
    "streaming_df['total_streaming_platforms']=streaming_df['netflix']+streaming_df['hulu']+streaming_df['prime video']+streaming_df['disney+']\n",
    "\n",
    "streaming_df.head()"
   ]
  },
  {
   "cell_type": "code",
   "execution_count": 26,
   "metadata": {},
   "outputs": [
    {
     "output_type": "execute_result",
     "data": {
      "text/plain": [
       "                            title  year  age  imdb  rotten tomatoes  netflix  \\\n",
       "0                       Inception  2010  13+   8.8              8.7        1   \n",
       "1                      The Matrix  1999  18+   8.7              8.7        1   \n",
       "2          Avengers: Infinity War  2018  13+   8.5              8.4        1   \n",
       "3              Back to the Future  1985   7+   8.5              9.6        1   \n",
       "4  The Good, the Bad and the Ugly  1966  18+   8.8              9.7        1   \n",
       "\n",
       "   hulu  prime video  disney+                            genres  \\\n",
       "0     0            0        0  Action,Adventure,Sci-Fi,Thriller   \n",
       "1     0            0        0                     Action,Sci-Fi   \n",
       "2     0            0        0           Action,Adventure,Sci-Fi   \n",
       "3     0            0        0           Adventure,Comedy,Sci-Fi   \n",
       "4     0            1        0                           Western   \n",
       "\n",
       "                        country                 language  runtime  \\\n",
       "0  United States,United Kingdom  English,Japanese,French    148.0   \n",
       "1                 United States                  English    136.0   \n",
       "2                 United States                  English    149.0   \n",
       "3                 United States                  English    116.0   \n",
       "4      Italy,Spain,West Germany                  Italian    161.0   \n",
       "\n",
       "   total_streaming_platforms  \n",
       "0                          1  \n",
       "1                          1  \n",
       "2                          1  \n",
       "3                          1  \n",
       "4                          2  "
      ],
      "text/html": "<div>\n<style scoped>\n    .dataframe tbody tr th:only-of-type {\n        vertical-align: middle;\n    }\n\n    .dataframe tbody tr th {\n        vertical-align: top;\n    }\n\n    .dataframe thead th {\n        text-align: right;\n    }\n</style>\n<table border=\"1\" class=\"dataframe\">\n  <thead>\n    <tr style=\"text-align: right;\">\n      <th></th>\n      <th>title</th>\n      <th>year</th>\n      <th>age</th>\n      <th>imdb</th>\n      <th>rotten tomatoes</th>\n      <th>netflix</th>\n      <th>hulu</th>\n      <th>prime video</th>\n      <th>disney+</th>\n      <th>genres</th>\n      <th>country</th>\n      <th>language</th>\n      <th>runtime</th>\n      <th>total_streaming_platforms</th>\n    </tr>\n  </thead>\n  <tbody>\n    <tr>\n      <th>0</th>\n      <td>Inception</td>\n      <td>2010</td>\n      <td>13+</td>\n      <td>8.8</td>\n      <td>8.7</td>\n      <td>1</td>\n      <td>0</td>\n      <td>0</td>\n      <td>0</td>\n      <td>Action,Adventure,Sci-Fi,Thriller</td>\n      <td>United States,United Kingdom</td>\n      <td>English,Japanese,French</td>\n      <td>148.0</td>\n      <td>1</td>\n    </tr>\n    <tr>\n      <th>1</th>\n      <td>The Matrix</td>\n      <td>1999</td>\n      <td>18+</td>\n      <td>8.7</td>\n      <td>8.7</td>\n      <td>1</td>\n      <td>0</td>\n      <td>0</td>\n      <td>0</td>\n      <td>Action,Sci-Fi</td>\n      <td>United States</td>\n      <td>English</td>\n      <td>136.0</td>\n      <td>1</td>\n    </tr>\n    <tr>\n      <th>2</th>\n      <td>Avengers: Infinity War</td>\n      <td>2018</td>\n      <td>13+</td>\n      <td>8.5</td>\n      <td>8.4</td>\n      <td>1</td>\n      <td>0</td>\n      <td>0</td>\n      <td>0</td>\n      <td>Action,Adventure,Sci-Fi</td>\n      <td>United States</td>\n      <td>English</td>\n      <td>149.0</td>\n      <td>1</td>\n    </tr>\n    <tr>\n      <th>3</th>\n      <td>Back to the Future</td>\n      <td>1985</td>\n      <td>7+</td>\n      <td>8.5</td>\n      <td>9.6</td>\n      <td>1</td>\n      <td>0</td>\n      <td>0</td>\n      <td>0</td>\n      <td>Adventure,Comedy,Sci-Fi</td>\n      <td>United States</td>\n      <td>English</td>\n      <td>116.0</td>\n      <td>1</td>\n    </tr>\n    <tr>\n      <th>4</th>\n      <td>The Good, the Bad and the Ugly</td>\n      <td>1966</td>\n      <td>18+</td>\n      <td>8.8</td>\n      <td>9.7</td>\n      <td>1</td>\n      <td>0</td>\n      <td>1</td>\n      <td>0</td>\n      <td>Western</td>\n      <td>Italy,Spain,West Germany</td>\n      <td>Italian</td>\n      <td>161.0</td>\n      <td>2</td>\n    </tr>\n  </tbody>\n</table>\n</div>"
     },
     "metadata": {},
     "execution_count": 26
    }
   ],
   "source": [
    "#drop unnecessary columns\n",
    "new_streaming_df = streaming_df.drop(columns=['unnamed: 0','id','type','directors'])\n",
    "\n",
    "\n",
    "new_streaming_df.head()"
   ]
  },
  {
   "cell_type": "code",
   "execution_count": 27,
   "metadata": {},
   "outputs": [
    {
     "output_type": "stream",
     "name": "stderr",
     "text": [
      "C:\\Users\\Julie\\anaconda3\\lib\\site-packages\\IPython\\core\\interactiveshell.py:3146: DtypeWarning: Columns (3) have mixed types.Specify dtype option on import or set low_memory=False.\n  has_raised = await self.run_ast_nodes(code_ast.body, cell_name,\n"
     ]
    },
    {
     "output_type": "execute_result",
     "data": {
      "text/plain": [
       "  imdb_title_id                        title  year  \\\n",
       "0     tt0000009                   Miss Jerry  1894   \n",
       "1     tt0000574  The Story of the Kelly Gang  1906   \n",
       "2     tt0001892               Den sorte drøm  1911   \n",
       "3     tt0002101                    Cleopatra  1912   \n",
       "4     tt0002130                    L'Inferno  1911   \n",
       "\n",
       "                                         description  \n",
       "0  The adventures of a female reporter in the 1890s.  \n",
       "1  True story of notorious Australian outlaw Ned ...  \n",
       "2  Two men of high rank are both wooing the beaut...  \n",
       "3  The fabled queen of Egypt's affair with Roman ...  \n",
       "4  Loosely adapted from Dante's Divine Comedy and...  "
      ],
      "text/html": "<div>\n<style scoped>\n    .dataframe tbody tr th:only-of-type {\n        vertical-align: middle;\n    }\n\n    .dataframe tbody tr th {\n        vertical-align: top;\n    }\n\n    .dataframe thead th {\n        text-align: right;\n    }\n</style>\n<table border=\"1\" class=\"dataframe\">\n  <thead>\n    <tr style=\"text-align: right;\">\n      <th></th>\n      <th>imdb_title_id</th>\n      <th>title</th>\n      <th>year</th>\n      <th>description</th>\n    </tr>\n  </thead>\n  <tbody>\n    <tr>\n      <th>0</th>\n      <td>tt0000009</td>\n      <td>Miss Jerry</td>\n      <td>1894</td>\n      <td>The adventures of a female reporter in the 1890s.</td>\n    </tr>\n    <tr>\n      <th>1</th>\n      <td>tt0000574</td>\n      <td>The Story of the Kelly Gang</td>\n      <td>1906</td>\n      <td>True story of notorious Australian outlaw Ned ...</td>\n    </tr>\n    <tr>\n      <th>2</th>\n      <td>tt0001892</td>\n      <td>Den sorte drøm</td>\n      <td>1911</td>\n      <td>Two men of high rank are both wooing the beaut...</td>\n    </tr>\n    <tr>\n      <th>3</th>\n      <td>tt0002101</td>\n      <td>Cleopatra</td>\n      <td>1912</td>\n      <td>The fabled queen of Egypt's affair with Roman ...</td>\n    </tr>\n    <tr>\n      <th>4</th>\n      <td>tt0002130</td>\n      <td>L'Inferno</td>\n      <td>1911</td>\n      <td>Loosely adapted from Dante's Divine Comedy and...</td>\n    </tr>\n  </tbody>\n</table>\n</div>"
     },
     "metadata": {},
     "execution_count": 27
    }
   ],
   "source": [
    "#bring in csv from files\n",
    "IMDB_movies_csv = \"Resources/IMDb_movies.csv\"\n",
    "IMDB_movies_df = pd.read_csv(IMDB_movies_csv)\n",
    "IMDB_movies_df.head()\n",
    "\n",
    "#drop unneccesarry columns\n",
    "IMDB_movies_df1 = IMDB_movies_df[['imdb_title_id','title','year','description']].copy()\n",
    "\n",
    "#clean year column\n",
    "IMDB_movies_df1.loc[IMDB_movies_df1['year'] == 'TV Movie 2019']\n",
    "\n",
    "new_IMDB_movies_df = IMDB_movies_df1.replace(to_replace='TV Movie 2019', value='2019')\n",
    "\n",
    "#convert year to integer for merge\n",
    "new_IMDB_movies_df['year'] = new_IMDB_movies_df['year'].astype('int64')\n",
    "\n",
    "new_IMDB_movies_df.head()"
   ]
  },
  {
   "cell_type": "code",
   "execution_count": 28,
   "metadata": {},
   "outputs": [
    {
     "output_type": "execute_result",
     "data": {
      "text/plain": [
       "                    title  year  age  imdb  rotten tomatoes  netflix  hulu  \\\n",
       "0               Inception  2010  13+   8.8              8.7        1     0   \n",
       "1  Avengers: Infinity War  2018  13+   8.5              8.4        1     0   \n",
       "2        Django Unchained  2012  18+   8.4              8.7        1     0   \n",
       "3             Taxi Driver  1976  18+   8.3              9.5        1     0   \n",
       "4                3 Idiots  2009  13+   8.4             10.0        1     0   \n",
       "\n",
       "   prime video  disney+                            genres  \\\n",
       "0            0        0  Action,Adventure,Sci-Fi,Thriller   \n",
       "1            0        0           Action,Adventure,Sci-Fi   \n",
       "2            0        0                     Drama,Western   \n",
       "3            0        0                       Crime,Drama   \n",
       "4            1        0                      Comedy,Drama   \n",
       "\n",
       "                        country                       language  runtime  \\\n",
       "0  United States,United Kingdom        English,Japanese,French    148.0   \n",
       "1                 United States                        English    149.0   \n",
       "2                 United States  English,German,French,Italian    165.0   \n",
       "3                 United States                English,Spanish    114.0   \n",
       "4                         India                  Hindi,English    170.0   \n",
       "\n",
       "   total_streaming_platforms imdb_title_id  \\\n",
       "0                          1     tt1375666   \n",
       "1                          1     tt4154756   \n",
       "2                          1     tt1853728   \n",
       "3                          1     tt0075314   \n",
       "4                          2     tt1187043   \n",
       "\n",
       "                                         description  \n",
       "0  A thief who steals corporate secrets through t...  \n",
       "1  The Avengers and their allies must be willing ...  \n",
       "2  With the help of a German bounty hunter, a fre...  \n",
       "3  A mentally unstable veteran works as a nightti...  \n",
       "4  Two friends are searching for their long lost ...  "
      ],
      "text/html": "<div>\n<style scoped>\n    .dataframe tbody tr th:only-of-type {\n        vertical-align: middle;\n    }\n\n    .dataframe tbody tr th {\n        vertical-align: top;\n    }\n\n    .dataframe thead th {\n        text-align: right;\n    }\n</style>\n<table border=\"1\" class=\"dataframe\">\n  <thead>\n    <tr style=\"text-align: right;\">\n      <th></th>\n      <th>title</th>\n      <th>year</th>\n      <th>age</th>\n      <th>imdb</th>\n      <th>rotten tomatoes</th>\n      <th>netflix</th>\n      <th>hulu</th>\n      <th>prime video</th>\n      <th>disney+</th>\n      <th>genres</th>\n      <th>country</th>\n      <th>language</th>\n      <th>runtime</th>\n      <th>total_streaming_platforms</th>\n      <th>imdb_title_id</th>\n      <th>description</th>\n    </tr>\n  </thead>\n  <tbody>\n    <tr>\n      <th>0</th>\n      <td>Inception</td>\n      <td>2010</td>\n      <td>13+</td>\n      <td>8.8</td>\n      <td>8.7</td>\n      <td>1</td>\n      <td>0</td>\n      <td>0</td>\n      <td>0</td>\n      <td>Action,Adventure,Sci-Fi,Thriller</td>\n      <td>United States,United Kingdom</td>\n      <td>English,Japanese,French</td>\n      <td>148.0</td>\n      <td>1</td>\n      <td>tt1375666</td>\n      <td>A thief who steals corporate secrets through t...</td>\n    </tr>\n    <tr>\n      <th>1</th>\n      <td>Avengers: Infinity War</td>\n      <td>2018</td>\n      <td>13+</td>\n      <td>8.5</td>\n      <td>8.4</td>\n      <td>1</td>\n      <td>0</td>\n      <td>0</td>\n      <td>0</td>\n      <td>Action,Adventure,Sci-Fi</td>\n      <td>United States</td>\n      <td>English</td>\n      <td>149.0</td>\n      <td>1</td>\n      <td>tt4154756</td>\n      <td>The Avengers and their allies must be willing ...</td>\n    </tr>\n    <tr>\n      <th>2</th>\n      <td>Django Unchained</td>\n      <td>2012</td>\n      <td>18+</td>\n      <td>8.4</td>\n      <td>8.7</td>\n      <td>1</td>\n      <td>0</td>\n      <td>0</td>\n      <td>0</td>\n      <td>Drama,Western</td>\n      <td>United States</td>\n      <td>English,German,French,Italian</td>\n      <td>165.0</td>\n      <td>1</td>\n      <td>tt1853728</td>\n      <td>With the help of a German bounty hunter, a fre...</td>\n    </tr>\n    <tr>\n      <th>3</th>\n      <td>Taxi Driver</td>\n      <td>1976</td>\n      <td>18+</td>\n      <td>8.3</td>\n      <td>9.5</td>\n      <td>1</td>\n      <td>0</td>\n      <td>0</td>\n      <td>0</td>\n      <td>Crime,Drama</td>\n      <td>United States</td>\n      <td>English,Spanish</td>\n      <td>114.0</td>\n      <td>1</td>\n      <td>tt0075314</td>\n      <td>A mentally unstable veteran works as a nightti...</td>\n    </tr>\n    <tr>\n      <th>4</th>\n      <td>3 Idiots</td>\n      <td>2009</td>\n      <td>13+</td>\n      <td>8.4</td>\n      <td>10.0</td>\n      <td>1</td>\n      <td>0</td>\n      <td>1</td>\n      <td>0</td>\n      <td>Comedy,Drama</td>\n      <td>India</td>\n      <td>Hindi,English</td>\n      <td>170.0</td>\n      <td>2</td>\n      <td>tt1187043</td>\n      <td>Two friends are searching for their long lost ...</td>\n    </tr>\n  </tbody>\n</table>\n</div>"
     },
     "metadata": {},
     "execution_count": 28
    }
   ],
   "source": [
    "\n",
    "clean_movies_df = pd.merge(new_streaming_df,new_IMDB_movies_df,how=\"inner\",left_on=['title','year'],right_on=['title','year'])\n",
    "\n",
    "clean_movies_df.head()\n"
   ]
  },
  {
   "cell_type": "code",
   "execution_count": 29,
   "metadata": {},
   "outputs": [],
   "source": [
    "titles_csv = \"Resources/IMDb_title.csv\"\n",
    "titles_df = pd.read_csv(titles_csv)\n",
    "titles_df.head()\n",
    "clean_titles_df = titles_df[['imdb_title_id','imdb_name_id','category']]"
   ]
  },
  {
   "cell_type": "code",
   "execution_count": 30,
   "metadata": {},
   "outputs": [
    {
     "output_type": "execute_result",
     "data": {
      "text/plain": [
       "  imdb_name_id             name               birth_name  height  \\\n",
       "0    nm0000001     Fred Astaire  Frederic Austerlitz Jr.   177.0   \n",
       "1    nm0000002    Lauren Bacall        Betty Joan Perske   174.0   \n",
       "2    nm0000003  Brigitte Bardot          Brigitte Bardot   166.0   \n",
       "3    nm0000004     John Belushi        John Adam Belushi   170.0   \n",
       "4    nm0000005   Ingmar Bergman     Ernst Ingmar Bergman   179.0   \n",
       "\n",
       "                                                 bio  \\\n",
       "0  Fred Astaire was born in Omaha, Nebraska, to J...   \n",
       "1  Lauren Bacall was born Betty Joan Perske on Se...   \n",
       "2  Brigitte Bardot was born on September 28, 1934...   \n",
       "3  John Belushi was born in Chicago, Illinois, US...   \n",
       "4  Ernst Ingmar Bergman was born July 14, 1918, t...   \n",
       "\n",
       "                                       birth_details date_of_birth  \\\n",
       "0               May 10, 1899 in Omaha, Nebraska, USA    1899-05-10   \n",
       "1  September 16, 1924 in The Bronx, New York City...    1924-09-16   \n",
       "2                September 28, 1934 in Paris, France    1934-09-28   \n",
       "3         January 24, 1949 in Chicago, Illinois, USA    1949-01-24   \n",
       "4      July 14, 1918 in Uppsala, Uppsala län, Sweden    1918-07-14   \n",
       "\n",
       "                            place_of_birth  \\\n",
       "0                     Omaha, Nebraska, USA   \n",
       "1  The Bronx, New York City, New York, USA   \n",
       "2                            Paris, France   \n",
       "3                   Chicago, Illinois, USA   \n",
       "4             Uppsala, Uppsala län, Sweden   \n",
       "\n",
       "                                       death_details date_of_death  \\\n",
       "0  June 22, 1987 in Los Angeles, California, USA ...    1987-06-22   \n",
       "1  August 12, 2014 in New York City, New York, US...    2014-08-12   \n",
       "2                                                NaN           NaN   \n",
       "3  March 5, 1982 in Hollywood, Los Angeles, Calif...    1982-03-05   \n",
       "4  July 30, 2007 in Fårö, Gotlands län, Sweden  (...    2007-07-30   \n",
       "\n",
       "                              place_of_death  \\\n",
       "0             Los Angeles, California, USA     \n",
       "1             New York City, New York, USA     \n",
       "2                                        NaN   \n",
       "3  Hollywood, Los Angeles, California, USA     \n",
       "4               Fårö, Gotlands län, Sweden     \n",
       "\n",
       "                         reason_of_death  \\\n",
       "0                              pneumonia   \n",
       "1                                 stroke   \n",
       "2                                    NaN   \n",
       "3  acute cocaine and heroin intoxication   \n",
       "4                         natural causes   \n",
       "\n",
       "                                      spouses_string  spouses  divorces  \\\n",
       "0  Robyn Smith  (27 June 1980 - 22 June 1987) (hi...        2         0   \n",
       "1  Jason Robards  (4 July 1961 - 10 September 196...        2         1   \n",
       "2  Bernard d'Ormale  (16 August 1992 - present)\\n...        4         3   \n",
       "3  Judith Belushi-Pisano  (31 December 1976 - 5 M...        1         0   \n",
       "4  Ingrid Bergman  (11 November 1971 - 20 May 199...        5         4   \n",
       "\n",
       "   spouses_with_children  children  \n",
       "0                      1         2  \n",
       "1                      2         3  \n",
       "2                      1         1  \n",
       "3                      0         0  \n",
       "4                      5         8  "
      ],
      "text/html": "<div>\n<style scoped>\n    .dataframe tbody tr th:only-of-type {\n        vertical-align: middle;\n    }\n\n    .dataframe tbody tr th {\n        vertical-align: top;\n    }\n\n    .dataframe thead th {\n        text-align: right;\n    }\n</style>\n<table border=\"1\" class=\"dataframe\">\n  <thead>\n    <tr style=\"text-align: right;\">\n      <th></th>\n      <th>imdb_name_id</th>\n      <th>name</th>\n      <th>birth_name</th>\n      <th>height</th>\n      <th>bio</th>\n      <th>birth_details</th>\n      <th>date_of_birth</th>\n      <th>place_of_birth</th>\n      <th>death_details</th>\n      <th>date_of_death</th>\n      <th>place_of_death</th>\n      <th>reason_of_death</th>\n      <th>spouses_string</th>\n      <th>spouses</th>\n      <th>divorces</th>\n      <th>spouses_with_children</th>\n      <th>children</th>\n    </tr>\n  </thead>\n  <tbody>\n    <tr>\n      <th>0</th>\n      <td>nm0000001</td>\n      <td>Fred Astaire</td>\n      <td>Frederic Austerlitz Jr.</td>\n      <td>177.0</td>\n      <td>Fred Astaire was born in Omaha, Nebraska, to J...</td>\n      <td>May 10, 1899 in Omaha, Nebraska, USA</td>\n      <td>1899-05-10</td>\n      <td>Omaha, Nebraska, USA</td>\n      <td>June 22, 1987 in Los Angeles, California, USA ...</td>\n      <td>1987-06-22</td>\n      <td>Los Angeles, California, USA</td>\n      <td>pneumonia</td>\n      <td>Robyn Smith  (27 June 1980 - 22 June 1987) (hi...</td>\n      <td>2</td>\n      <td>0</td>\n      <td>1</td>\n      <td>2</td>\n    </tr>\n    <tr>\n      <th>1</th>\n      <td>nm0000002</td>\n      <td>Lauren Bacall</td>\n      <td>Betty Joan Perske</td>\n      <td>174.0</td>\n      <td>Lauren Bacall was born Betty Joan Perske on Se...</td>\n      <td>September 16, 1924 in The Bronx, New York City...</td>\n      <td>1924-09-16</td>\n      <td>The Bronx, New York City, New York, USA</td>\n      <td>August 12, 2014 in New York City, New York, US...</td>\n      <td>2014-08-12</td>\n      <td>New York City, New York, USA</td>\n      <td>stroke</td>\n      <td>Jason Robards  (4 July 1961 - 10 September 196...</td>\n      <td>2</td>\n      <td>1</td>\n      <td>2</td>\n      <td>3</td>\n    </tr>\n    <tr>\n      <th>2</th>\n      <td>nm0000003</td>\n      <td>Brigitte Bardot</td>\n      <td>Brigitte Bardot</td>\n      <td>166.0</td>\n      <td>Brigitte Bardot was born on September 28, 1934...</td>\n      <td>September 28, 1934 in Paris, France</td>\n      <td>1934-09-28</td>\n      <td>Paris, France</td>\n      <td>NaN</td>\n      <td>NaN</td>\n      <td>NaN</td>\n      <td>NaN</td>\n      <td>Bernard d'Ormale  (16 August 1992 - present)\\n...</td>\n      <td>4</td>\n      <td>3</td>\n      <td>1</td>\n      <td>1</td>\n    </tr>\n    <tr>\n      <th>3</th>\n      <td>nm0000004</td>\n      <td>John Belushi</td>\n      <td>John Adam Belushi</td>\n      <td>170.0</td>\n      <td>John Belushi was born in Chicago, Illinois, US...</td>\n      <td>January 24, 1949 in Chicago, Illinois, USA</td>\n      <td>1949-01-24</td>\n      <td>Chicago, Illinois, USA</td>\n      <td>March 5, 1982 in Hollywood, Los Angeles, Calif...</td>\n      <td>1982-03-05</td>\n      <td>Hollywood, Los Angeles, California, USA</td>\n      <td>acute cocaine and heroin intoxication</td>\n      <td>Judith Belushi-Pisano  (31 December 1976 - 5 M...</td>\n      <td>1</td>\n      <td>0</td>\n      <td>0</td>\n      <td>0</td>\n    </tr>\n    <tr>\n      <th>4</th>\n      <td>nm0000005</td>\n      <td>Ingmar Bergman</td>\n      <td>Ernst Ingmar Bergman</td>\n      <td>179.0</td>\n      <td>Ernst Ingmar Bergman was born July 14, 1918, t...</td>\n      <td>July 14, 1918 in Uppsala, Uppsala län, Sweden</td>\n      <td>1918-07-14</td>\n      <td>Uppsala, Uppsala län, Sweden</td>\n      <td>July 30, 2007 in Fårö, Gotlands län, Sweden  (...</td>\n      <td>2007-07-30</td>\n      <td>Fårö, Gotlands län, Sweden</td>\n      <td>natural causes</td>\n      <td>Ingrid Bergman  (11 November 1971 - 20 May 199...</td>\n      <td>5</td>\n      <td>4</td>\n      <td>5</td>\n      <td>8</td>\n    </tr>\n  </tbody>\n</table>\n</div>"
     },
     "metadata": {},
     "execution_count": 30
    }
   ],
   "source": [
    "names_csv = \"Resources/IMDb_names.csv\"\n",
    "names_df = pd.read_csv(names_csv)\n",
    "names_df.head()\n"
   ]
  },
  {
   "cell_type": "code",
   "execution_count": 31,
   "metadata": {},
   "outputs": [
    {
     "output_type": "execute_result",
     "data": {
      "text/plain": [
       "  imdb_name_id             name               birth_name  height  \\\n",
       "0    nm0000001     Fred Astaire  Frederic Austerlitz Jr.   177.0   \n",
       "1    nm0000002    Lauren Bacall        Betty Joan Perske   174.0   \n",
       "2    nm0000003  Brigitte Bardot          Brigitte Bardot   166.0   \n",
       "3    nm0000004     John Belushi        John Adam Belushi   170.0   \n",
       "4    nm0000005   Ingmar Bergman     Ernst Ingmar Bergman   179.0   \n",
       "\n",
       "                                                 bio  \\\n",
       "0  Fred Astaire was born in Omaha, Nebraska, to J...   \n",
       "1  Lauren Bacall was born Betty Joan Perske on Se...   \n",
       "2  Brigitte Bardot was born on September 28, 1934...   \n",
       "3  John Belushi was born in Chicago, Illinois, US...   \n",
       "4  Ernst Ingmar Bergman was born July 14, 1918, t...   \n",
       "\n",
       "                                       birth_details date_of_birth  \\\n",
       "0               May 10, 1899 in Omaha, Nebraska, USA    1899-05-10   \n",
       "1  September 16, 1924 in The Bronx, New York City...    1924-09-16   \n",
       "2                September 28, 1934 in Paris, France    1934-09-28   \n",
       "3         January 24, 1949 in Chicago, Illinois, USA    1949-01-24   \n",
       "4      July 14, 1918 in Uppsala, Uppsala län, Sweden    1918-07-14   \n",
       "\n",
       "                            place_of_birth  \\\n",
       "0                     Omaha, Nebraska, USA   \n",
       "1  The Bronx, New York City, New York, USA   \n",
       "2                            Paris, France   \n",
       "3                   Chicago, Illinois, USA   \n",
       "4             Uppsala, Uppsala län, Sweden   \n",
       "\n",
       "                                       death_details date_of_death  ...  \\\n",
       "0  June 22, 1987 in Los Angeles, California, USA ...    1987-06-22  ...   \n",
       "1  August 12, 2014 in New York City, New York, US...    2014-08-12  ...   \n",
       "2                                                NaN           NaN  ...   \n",
       "3  March 5, 1982 in Hollywood, Los Angeles, Calif...    1982-03-05  ...   \n",
       "4  July 30, 2007 in Fårö, Gotlands län, Sweden  (...    2007-07-30  ...   \n",
       "\n",
       "                                      spouses_string spouses divorces  \\\n",
       "0  Robyn Smith  (27 June 1980 - 22 June 1987) (hi...       2        0   \n",
       "1  Jason Robards  (4 July 1961 - 10 September 196...       2        1   \n",
       "2  Bernard d'Ormale  (16 August 1992 - present)\\n...       4        3   \n",
       "3  Judith Belushi-Pisano  (31 December 1976 - 5 M...       1        0   \n",
       "4  Ingrid Bergman  (11 November 1971 - 20 May 199...       5        4   \n",
       "\n",
       "   spouses_with_children  children              spouse_last  place_of_birth_1  \\\n",
       "0                      1         2            Robyn Smith               Omaha   \n",
       "1                      2         3          Jason Robards           The Bronx   \n",
       "2                      1         1       Bernard d'Ormale               Paris   \n",
       "3                      0         0  Judith Belushi-Pisano             Chicago   \n",
       "4                      5         8         Ingrid Bergman             Uppsala   \n",
       "\n",
       "  place_of_birth_2 place_of_birth_3 place_of_birth_4  \n",
       "0         Nebraska              USA             None  \n",
       "1    New York City         New York              USA  \n",
       "2           France             None             None  \n",
       "3         Illinois              USA             None  \n",
       "4      Uppsala län           Sweden             None  \n",
       "\n",
       "[5 rows x 22 columns]"
      ],
      "text/html": "<div>\n<style scoped>\n    .dataframe tbody tr th:only-of-type {\n        vertical-align: middle;\n    }\n\n    .dataframe tbody tr th {\n        vertical-align: top;\n    }\n\n    .dataframe thead th {\n        text-align: right;\n    }\n</style>\n<table border=\"1\" class=\"dataframe\">\n  <thead>\n    <tr style=\"text-align: right;\">\n      <th></th>\n      <th>imdb_name_id</th>\n      <th>name</th>\n      <th>birth_name</th>\n      <th>height</th>\n      <th>bio</th>\n      <th>birth_details</th>\n      <th>date_of_birth</th>\n      <th>place_of_birth</th>\n      <th>death_details</th>\n      <th>date_of_death</th>\n      <th>...</th>\n      <th>spouses_string</th>\n      <th>spouses</th>\n      <th>divorces</th>\n      <th>spouses_with_children</th>\n      <th>children</th>\n      <th>spouse_last</th>\n      <th>place_of_birth_1</th>\n      <th>place_of_birth_2</th>\n      <th>place_of_birth_3</th>\n      <th>place_of_birth_4</th>\n    </tr>\n  </thead>\n  <tbody>\n    <tr>\n      <th>0</th>\n      <td>nm0000001</td>\n      <td>Fred Astaire</td>\n      <td>Frederic Austerlitz Jr.</td>\n      <td>177.0</td>\n      <td>Fred Astaire was born in Omaha, Nebraska, to J...</td>\n      <td>May 10, 1899 in Omaha, Nebraska, USA</td>\n      <td>1899-05-10</td>\n      <td>Omaha, Nebraska, USA</td>\n      <td>June 22, 1987 in Los Angeles, California, USA ...</td>\n      <td>1987-06-22</td>\n      <td>...</td>\n      <td>Robyn Smith  (27 June 1980 - 22 June 1987) (hi...</td>\n      <td>2</td>\n      <td>0</td>\n      <td>1</td>\n      <td>2</td>\n      <td>Robyn Smith</td>\n      <td>Omaha</td>\n      <td>Nebraska</td>\n      <td>USA</td>\n      <td>None</td>\n    </tr>\n    <tr>\n      <th>1</th>\n      <td>nm0000002</td>\n      <td>Lauren Bacall</td>\n      <td>Betty Joan Perske</td>\n      <td>174.0</td>\n      <td>Lauren Bacall was born Betty Joan Perske on Se...</td>\n      <td>September 16, 1924 in The Bronx, New York City...</td>\n      <td>1924-09-16</td>\n      <td>The Bronx, New York City, New York, USA</td>\n      <td>August 12, 2014 in New York City, New York, US...</td>\n      <td>2014-08-12</td>\n      <td>...</td>\n      <td>Jason Robards  (4 July 1961 - 10 September 196...</td>\n      <td>2</td>\n      <td>1</td>\n      <td>2</td>\n      <td>3</td>\n      <td>Jason Robards</td>\n      <td>The Bronx</td>\n      <td>New York City</td>\n      <td>New York</td>\n      <td>USA</td>\n    </tr>\n    <tr>\n      <th>2</th>\n      <td>nm0000003</td>\n      <td>Brigitte Bardot</td>\n      <td>Brigitte Bardot</td>\n      <td>166.0</td>\n      <td>Brigitte Bardot was born on September 28, 1934...</td>\n      <td>September 28, 1934 in Paris, France</td>\n      <td>1934-09-28</td>\n      <td>Paris, France</td>\n      <td>NaN</td>\n      <td>NaN</td>\n      <td>...</td>\n      <td>Bernard d'Ormale  (16 August 1992 - present)\\n...</td>\n      <td>4</td>\n      <td>3</td>\n      <td>1</td>\n      <td>1</td>\n      <td>Bernard d'Ormale</td>\n      <td>Paris</td>\n      <td>France</td>\n      <td>None</td>\n      <td>None</td>\n    </tr>\n    <tr>\n      <th>3</th>\n      <td>nm0000004</td>\n      <td>John Belushi</td>\n      <td>John Adam Belushi</td>\n      <td>170.0</td>\n      <td>John Belushi was born in Chicago, Illinois, US...</td>\n      <td>January 24, 1949 in Chicago, Illinois, USA</td>\n      <td>1949-01-24</td>\n      <td>Chicago, Illinois, USA</td>\n      <td>March 5, 1982 in Hollywood, Los Angeles, Calif...</td>\n      <td>1982-03-05</td>\n      <td>...</td>\n      <td>Judith Belushi-Pisano  (31 December 1976 - 5 M...</td>\n      <td>1</td>\n      <td>0</td>\n      <td>0</td>\n      <td>0</td>\n      <td>Judith Belushi-Pisano</td>\n      <td>Chicago</td>\n      <td>Illinois</td>\n      <td>USA</td>\n      <td>None</td>\n    </tr>\n    <tr>\n      <th>4</th>\n      <td>nm0000005</td>\n      <td>Ingmar Bergman</td>\n      <td>Ernst Ingmar Bergman</td>\n      <td>179.0</td>\n      <td>Ernst Ingmar Bergman was born July 14, 1918, t...</td>\n      <td>July 14, 1918 in Uppsala, Uppsala län, Sweden</td>\n      <td>1918-07-14</td>\n      <td>Uppsala, Uppsala län, Sweden</td>\n      <td>July 30, 2007 in Fårö, Gotlands län, Sweden  (...</td>\n      <td>2007-07-30</td>\n      <td>...</td>\n      <td>Ingrid Bergman  (11 November 1971 - 20 May 199...</td>\n      <td>5</td>\n      <td>4</td>\n      <td>5</td>\n      <td>8</td>\n      <td>Ingrid Bergman</td>\n      <td>Uppsala</td>\n      <td>Uppsala län</td>\n      <td>Sweden</td>\n      <td>None</td>\n    </tr>\n  </tbody>\n</table>\n<p>5 rows × 22 columns</p>\n</div>"
     },
     "metadata": {},
     "execution_count": 31
    }
   ],
   "source": [
    "names_df_1 = names_df.copy()\n",
    "\n",
    "#split spouse streing\n",
    "names_df_1['spouse_last'] = names_df_1['spouses_string'].str.split('(', expand=True)[0]\n",
    "\n",
    "#split names for places of birth \n",
    "names_df_2 = names_df_1.copy()\n",
    "names_df_2['place_of_birth_1'] = names_df_1['place_of_birth'].str.split(',', expand=True)[0]\n",
    "names_df_2['place_of_birth_2'] = names_df_2['place_of_birth'].str.split(',', expand=True)[1]\n",
    "names_df_2['place_of_birth_3'] = names_df_2['place_of_birth'].str.split(',', expand=True)[2]\n",
    "names_df_2['place_of_birth_4'] = names_df_2['place_of_birth'].str.split(',', expand=True)[3]\n",
    "names_df_2.head()"
   ]
  },
  {
   "cell_type": "code",
   "execution_count": 32,
   "metadata": {},
   "outputs": [
    {
     "output_type": "execute_result",
     "data": {
      "text/plain": [
       "  imdb_name_id             name               birth_name  height  \\\n",
       "0    nm0000001     Fred Astaire  Frederic Austerlitz Jr.   177.0   \n",
       "1    nm0000002    Lauren Bacall        Betty Joan Perske   174.0   \n",
       "2    nm0000003  Brigitte Bardot          Brigitte Bardot   166.0   \n",
       "3    nm0000004     John Belushi        John Adam Belushi   170.0   \n",
       "4    nm0000005   Ingmar Bergman     Ernst Ingmar Bergman   179.0   \n",
       "\n",
       "                                                 bio  \\\n",
       "0  Fred Astaire was born in Omaha, Nebraska, to J...   \n",
       "1  Lauren Bacall was born Betty Joan Perske on Se...   \n",
       "2  Brigitte Bardot was born on September 28, 1934...   \n",
       "3  John Belushi was born in Chicago, Illinois, US...   \n",
       "4  Ernst Ingmar Bergman was born July 14, 1918, t...   \n",
       "\n",
       "                                       birth_details date_of_birth  \\\n",
       "0               May 10, 1899 in Omaha, Nebraska, USA    1899-05-10   \n",
       "1  September 16, 1924 in The Bronx, New York City...    1924-09-16   \n",
       "2                September 28, 1934 in Paris, France    1934-09-28   \n",
       "3         January 24, 1949 in Chicago, Illinois, USA    1949-01-24   \n",
       "4      July 14, 1918 in Uppsala, Uppsala län, Sweden    1918-07-14   \n",
       "\n",
       "                            place_of_birth  \\\n",
       "0                     Omaha, Nebraska, USA   \n",
       "1  The Bronx, New York City, New York, USA   \n",
       "2                            Paris, France   \n",
       "3                   Chicago, Illinois, USA   \n",
       "4             Uppsala, Uppsala län, Sweden   \n",
       "\n",
       "                                       death_details date_of_death  ...  \\\n",
       "0  June 22, 1987 in Los Angeles, California, USA ...    1987-06-22  ...   \n",
       "1  August 12, 2014 in New York City, New York, US...    2014-08-12  ...   \n",
       "2                                                NaN           NaN  ...   \n",
       "3  March 5, 1982 in Hollywood, Los Angeles, Calif...    1982-03-05  ...   \n",
       "4  July 30, 2007 in Fårö, Gotlands län, Sweden  (...    2007-07-30  ...   \n",
       "\n",
       "  children              spouse_last place_of_birth_1  place_of_birth_2  \\\n",
       "0        2            Robyn Smith              Omaha          Nebraska   \n",
       "1        3          Jason Robards          The Bronx     New York City   \n",
       "2        1       Bernard d'Ormale              Paris            France   \n",
       "3        0  Judith Belushi-Pisano            Chicago          Illinois   \n",
       "4        8         Ingrid Bergman            Uppsala       Uppsala län   \n",
       "\n",
       "   place_of_birth_3  place_of_birth_4  place_of_death_1 place_of_death_2  \\\n",
       "0               USA              None       Los Angeles       California   \n",
       "1          New York               USA     New York City         New York   \n",
       "2              None              None               NaN              NaN   \n",
       "3               USA              None         Hollywood      Los Angeles   \n",
       "4            Sweden              None              Fårö     Gotlands län   \n",
       "\n",
       "  place_of_death_3 place_of_death_4  \n",
       "0            USA               None  \n",
       "1            USA               None  \n",
       "2              NaN              NaN  \n",
       "3       California            USA    \n",
       "4         Sweden               None  \n",
       "\n",
       "[5 rows x 26 columns]"
      ],
      "text/html": "<div>\n<style scoped>\n    .dataframe tbody tr th:only-of-type {\n        vertical-align: middle;\n    }\n\n    .dataframe tbody tr th {\n        vertical-align: top;\n    }\n\n    .dataframe thead th {\n        text-align: right;\n    }\n</style>\n<table border=\"1\" class=\"dataframe\">\n  <thead>\n    <tr style=\"text-align: right;\">\n      <th></th>\n      <th>imdb_name_id</th>\n      <th>name</th>\n      <th>birth_name</th>\n      <th>height</th>\n      <th>bio</th>\n      <th>birth_details</th>\n      <th>date_of_birth</th>\n      <th>place_of_birth</th>\n      <th>death_details</th>\n      <th>date_of_death</th>\n      <th>...</th>\n      <th>children</th>\n      <th>spouse_last</th>\n      <th>place_of_birth_1</th>\n      <th>place_of_birth_2</th>\n      <th>place_of_birth_3</th>\n      <th>place_of_birth_4</th>\n      <th>place_of_death_1</th>\n      <th>place_of_death_2</th>\n      <th>place_of_death_3</th>\n      <th>place_of_death_4</th>\n    </tr>\n  </thead>\n  <tbody>\n    <tr>\n      <th>0</th>\n      <td>nm0000001</td>\n      <td>Fred Astaire</td>\n      <td>Frederic Austerlitz Jr.</td>\n      <td>177.0</td>\n      <td>Fred Astaire was born in Omaha, Nebraska, to J...</td>\n      <td>May 10, 1899 in Omaha, Nebraska, USA</td>\n      <td>1899-05-10</td>\n      <td>Omaha, Nebraska, USA</td>\n      <td>June 22, 1987 in Los Angeles, California, USA ...</td>\n      <td>1987-06-22</td>\n      <td>...</td>\n      <td>2</td>\n      <td>Robyn Smith</td>\n      <td>Omaha</td>\n      <td>Nebraska</td>\n      <td>USA</td>\n      <td>None</td>\n      <td>Los Angeles</td>\n      <td>California</td>\n      <td>USA</td>\n      <td>None</td>\n    </tr>\n    <tr>\n      <th>1</th>\n      <td>nm0000002</td>\n      <td>Lauren Bacall</td>\n      <td>Betty Joan Perske</td>\n      <td>174.0</td>\n      <td>Lauren Bacall was born Betty Joan Perske on Se...</td>\n      <td>September 16, 1924 in The Bronx, New York City...</td>\n      <td>1924-09-16</td>\n      <td>The Bronx, New York City, New York, USA</td>\n      <td>August 12, 2014 in New York City, New York, US...</td>\n      <td>2014-08-12</td>\n      <td>...</td>\n      <td>3</td>\n      <td>Jason Robards</td>\n      <td>The Bronx</td>\n      <td>New York City</td>\n      <td>New York</td>\n      <td>USA</td>\n      <td>New York City</td>\n      <td>New York</td>\n      <td>USA</td>\n      <td>None</td>\n    </tr>\n    <tr>\n      <th>2</th>\n      <td>nm0000003</td>\n      <td>Brigitte Bardot</td>\n      <td>Brigitte Bardot</td>\n      <td>166.0</td>\n      <td>Brigitte Bardot was born on September 28, 1934...</td>\n      <td>September 28, 1934 in Paris, France</td>\n      <td>1934-09-28</td>\n      <td>Paris, France</td>\n      <td>NaN</td>\n      <td>NaN</td>\n      <td>...</td>\n      <td>1</td>\n      <td>Bernard d'Ormale</td>\n      <td>Paris</td>\n      <td>France</td>\n      <td>None</td>\n      <td>None</td>\n      <td>NaN</td>\n      <td>NaN</td>\n      <td>NaN</td>\n      <td>NaN</td>\n    </tr>\n    <tr>\n      <th>3</th>\n      <td>nm0000004</td>\n      <td>John Belushi</td>\n      <td>John Adam Belushi</td>\n      <td>170.0</td>\n      <td>John Belushi was born in Chicago, Illinois, US...</td>\n      <td>January 24, 1949 in Chicago, Illinois, USA</td>\n      <td>1949-01-24</td>\n      <td>Chicago, Illinois, USA</td>\n      <td>March 5, 1982 in Hollywood, Los Angeles, Calif...</td>\n      <td>1982-03-05</td>\n      <td>...</td>\n      <td>0</td>\n      <td>Judith Belushi-Pisano</td>\n      <td>Chicago</td>\n      <td>Illinois</td>\n      <td>USA</td>\n      <td>None</td>\n      <td>Hollywood</td>\n      <td>Los Angeles</td>\n      <td>California</td>\n      <td>USA</td>\n    </tr>\n    <tr>\n      <th>4</th>\n      <td>nm0000005</td>\n      <td>Ingmar Bergman</td>\n      <td>Ernst Ingmar Bergman</td>\n      <td>179.0</td>\n      <td>Ernst Ingmar Bergman was born July 14, 1918, t...</td>\n      <td>July 14, 1918 in Uppsala, Uppsala län, Sweden</td>\n      <td>1918-07-14</td>\n      <td>Uppsala, Uppsala län, Sweden</td>\n      <td>July 30, 2007 in Fårö, Gotlands län, Sweden  (...</td>\n      <td>2007-07-30</td>\n      <td>...</td>\n      <td>8</td>\n      <td>Ingrid Bergman</td>\n      <td>Uppsala</td>\n      <td>Uppsala län</td>\n      <td>Sweden</td>\n      <td>None</td>\n      <td>Fårö</td>\n      <td>Gotlands län</td>\n      <td>Sweden</td>\n      <td>None</td>\n    </tr>\n  </tbody>\n</table>\n<p>5 rows × 26 columns</p>\n</div>"
     },
     "metadata": {},
     "execution_count": 32
    }
   ],
   "source": [
    "#split locations for places of death\n",
    "names_df_3 = names_df_2.copy()\n",
    "names_df_3['place_of_death_1'] = names_df_2['place_of_death'].str.split(',', expand=True)[0]\n",
    "names_df_3['place_of_death_2'] = names_df_2['place_of_death'].str.split(',', expand=True)[1]\n",
    "names_df_3['place_of_death_3'] = names_df_2['place_of_death'].str.split(',', expand=True)[2]\n",
    "names_df_3['place_of_death_4'] = names_df_2['place_of_death'].str.split(',', expand=True)[3]\n",
    "names_df_3.head()"
   ]
  },
  {
   "cell_type": "code",
   "execution_count": 33,
   "metadata": {},
   "outputs": [
    {
     "output_type": "execute_result",
     "data": {
      "text/plain": [
       "                         name               birth_name  height_cm  \\\n",
       "imdb_name_id                                                        \n",
       "nm0000001        Fred Astaire  Frederic Austerlitz Jr.      177.0   \n",
       "nm0000002       Lauren Bacall        Betty Joan Perske      174.0   \n",
       "nm0000003     Brigitte Bardot          Brigitte Bardot      166.0   \n",
       "nm0000004        John Belushi        John Adam Belushi      170.0   \n",
       "nm0000005      Ingmar Bergman     Ernst Ingmar Bergman      179.0   \n",
       "...                       ...                      ...        ...   \n",
       "nm5474275     Sunay Terzioglu          Sunay Terzioglu        NaN   \n",
       "nm5909653         Sung Lim Ju              Sung Lim Ju        NaN   \n",
       "nm5993616        Coulee Nazha        Gülnezer Bextiyar        NaN   \n",
       "nm7634163               Ge Ou                    Ge Ou        NaN   \n",
       "nm3834123      Richa Langella           Richa Langella      170.0   \n",
       "\n",
       "                                                            bio date_of_birth  \\\n",
       "imdb_name_id                                                                    \n",
       "nm0000001     Fred Astaire was born in Omaha, Nebraska, to J...    1899-05-10   \n",
       "nm0000002     Lauren Bacall was born Betty Joan Perske on Se...    1924-09-16   \n",
       "nm0000003     Brigitte Bardot was born on September 28, 1934...    1934-09-28   \n",
       "nm0000004     John Belushi was born in Chicago, Illinois, US...    1949-01-24   \n",
       "nm0000005     Ernst Ingmar Bergman was born July 14, 1918, t...    1918-07-14   \n",
       "...                                                         ...           ...   \n",
       "nm5474275                                                   NaN           NaN   \n",
       "nm5909653                                                   NaN           NaN   \n",
       "nm5993616     Coulee Nazha was born on May 2, 1992 in Urumqi...    1992-05-02   \n",
       "nm7634163                                                   NaN           NaN   \n",
       "nm3834123     Richa Langella, formerly known as Richa Gangop...    1986-03-20   \n",
       "\n",
       "             place_of_birth_1 place_of_birth_2 place_of_birth_3  \\\n",
       "imdb_name_id                                                      \n",
       "nm0000001               Omaha         Nebraska              USA   \n",
       "nm0000002           The Bronx    New York City         New York   \n",
       "nm0000003               Paris           France             None   \n",
       "nm0000004             Chicago         Illinois              USA   \n",
       "nm0000005             Uppsala      Uppsala län           Sweden   \n",
       "...                       ...              ...              ...   \n",
       "nm5474275                 NaN              NaN              NaN   \n",
       "nm5909653                 NaN              NaN              NaN   \n",
       "nm5993616              Urumqi         Xinjiang            China   \n",
       "nm7634163                 NaN              NaN              NaN   \n",
       "nm3834123           New Delhi            India             None   \n",
       "\n",
       "             place_of_birth_4 date_of_death place_of_death_1 place_of_death_2  \\\n",
       "imdb_name_id                                                                    \n",
       "nm0000001                None    1987-06-22      Los Angeles       California   \n",
       "nm0000002                 USA    2014-08-12    New York City         New York   \n",
       "nm0000003                None           NaN              NaN              NaN   \n",
       "nm0000004                None    1982-03-05        Hollywood      Los Angeles   \n",
       "nm0000005                None    2007-07-30             Fårö     Gotlands län   \n",
       "...                       ...           ...              ...              ...   \n",
       "nm5474275                 NaN           NaN              NaN              NaN   \n",
       "nm5909653                 NaN           NaN              NaN              NaN   \n",
       "nm5993616                None           NaN              NaN              NaN   \n",
       "nm7634163                 NaN           NaN              NaN              NaN   \n",
       "nm3834123                None           NaN              NaN              NaN   \n",
       "\n",
       "             place_of_death_3 place_of_death_4  \\\n",
       "imdb_name_id                                     \n",
       "nm0000001               USA               None   \n",
       "nm0000002               USA               None   \n",
       "nm0000003                 NaN              NaN   \n",
       "nm0000004          California            USA     \n",
       "nm0000005            Sweden               None   \n",
       "...                       ...              ...   \n",
       "nm5474275                 NaN              NaN   \n",
       "nm5909653                 NaN              NaN   \n",
       "nm5993616                 NaN              NaN   \n",
       "nm7634163                 NaN              NaN   \n",
       "nm3834123                 NaN              NaN   \n",
       "\n",
       "                                    reason_of_death              spouse_last  \\\n",
       "imdb_name_id                                                                   \n",
       "nm0000001                                 pneumonia            Robyn Smith     \n",
       "nm0000002                                    stroke          Jason Robards     \n",
       "nm0000003                                       NaN       Bernard d'Ormale     \n",
       "nm0000004     acute cocaine and heroin intoxication  Judith Belushi-Pisano     \n",
       "nm0000005                            natural causes         Ingrid Bergman     \n",
       "...                                             ...                      ...   \n",
       "nm5474275                                       NaN                      NaN   \n",
       "nm5909653                                       NaN                      NaN   \n",
       "nm5993616                                       NaN                      NaN   \n",
       "nm7634163                                       NaN                      NaN   \n",
       "nm3834123                                       NaN           Joe Langella     \n",
       "\n",
       "              spouses  divorces  spouses_with_children  children  \n",
       "imdb_name_id                                                      \n",
       "nm0000001           2         0                      1         2  \n",
       "nm0000002           2         1                      2         3  \n",
       "nm0000003           4         3                      1         1  \n",
       "nm0000004           1         0                      0         0  \n",
       "nm0000005           5         4                      5         8  \n",
       "...               ...       ...                    ...       ...  \n",
       "nm5474275           0         0                      0         0  \n",
       "nm5909653           0         0                      0         0  \n",
       "nm5993616           0         0                      0         0  \n",
       "nm7634163           0         0                      0         0  \n",
       "nm3834123           1         0                      0         0  \n",
       "\n",
       "[297705 rows x 20 columns]"
      ],
      "text/html": "<div>\n<style scoped>\n    .dataframe tbody tr th:only-of-type {\n        vertical-align: middle;\n    }\n\n    .dataframe tbody tr th {\n        vertical-align: top;\n    }\n\n    .dataframe thead th {\n        text-align: right;\n    }\n</style>\n<table border=\"1\" class=\"dataframe\">\n  <thead>\n    <tr style=\"text-align: right;\">\n      <th></th>\n      <th>name</th>\n      <th>birth_name</th>\n      <th>height_cm</th>\n      <th>bio</th>\n      <th>date_of_birth</th>\n      <th>place_of_birth_1</th>\n      <th>place_of_birth_2</th>\n      <th>place_of_birth_3</th>\n      <th>place_of_birth_4</th>\n      <th>date_of_death</th>\n      <th>place_of_death_1</th>\n      <th>place_of_death_2</th>\n      <th>place_of_death_3</th>\n      <th>place_of_death_4</th>\n      <th>reason_of_death</th>\n      <th>spouse_last</th>\n      <th>spouses</th>\n      <th>divorces</th>\n      <th>spouses_with_children</th>\n      <th>children</th>\n    </tr>\n    <tr>\n      <th>imdb_name_id</th>\n      <th></th>\n      <th></th>\n      <th></th>\n      <th></th>\n      <th></th>\n      <th></th>\n      <th></th>\n      <th></th>\n      <th></th>\n      <th></th>\n      <th></th>\n      <th></th>\n      <th></th>\n      <th></th>\n      <th></th>\n      <th></th>\n      <th></th>\n      <th></th>\n      <th></th>\n      <th></th>\n    </tr>\n  </thead>\n  <tbody>\n    <tr>\n      <th>nm0000001</th>\n      <td>Fred Astaire</td>\n      <td>Frederic Austerlitz Jr.</td>\n      <td>177.0</td>\n      <td>Fred Astaire was born in Omaha, Nebraska, to J...</td>\n      <td>1899-05-10</td>\n      <td>Omaha</td>\n      <td>Nebraska</td>\n      <td>USA</td>\n      <td>None</td>\n      <td>1987-06-22</td>\n      <td>Los Angeles</td>\n      <td>California</td>\n      <td>USA</td>\n      <td>None</td>\n      <td>pneumonia</td>\n      <td>Robyn Smith</td>\n      <td>2</td>\n      <td>0</td>\n      <td>1</td>\n      <td>2</td>\n    </tr>\n    <tr>\n      <th>nm0000002</th>\n      <td>Lauren Bacall</td>\n      <td>Betty Joan Perske</td>\n      <td>174.0</td>\n      <td>Lauren Bacall was born Betty Joan Perske on Se...</td>\n      <td>1924-09-16</td>\n      <td>The Bronx</td>\n      <td>New York City</td>\n      <td>New York</td>\n      <td>USA</td>\n      <td>2014-08-12</td>\n      <td>New York City</td>\n      <td>New York</td>\n      <td>USA</td>\n      <td>None</td>\n      <td>stroke</td>\n      <td>Jason Robards</td>\n      <td>2</td>\n      <td>1</td>\n      <td>2</td>\n      <td>3</td>\n    </tr>\n    <tr>\n      <th>nm0000003</th>\n      <td>Brigitte Bardot</td>\n      <td>Brigitte Bardot</td>\n      <td>166.0</td>\n      <td>Brigitte Bardot was born on September 28, 1934...</td>\n      <td>1934-09-28</td>\n      <td>Paris</td>\n      <td>France</td>\n      <td>None</td>\n      <td>None</td>\n      <td>NaN</td>\n      <td>NaN</td>\n      <td>NaN</td>\n      <td>NaN</td>\n      <td>NaN</td>\n      <td>NaN</td>\n      <td>Bernard d'Ormale</td>\n      <td>4</td>\n      <td>3</td>\n      <td>1</td>\n      <td>1</td>\n    </tr>\n    <tr>\n      <th>nm0000004</th>\n      <td>John Belushi</td>\n      <td>John Adam Belushi</td>\n      <td>170.0</td>\n      <td>John Belushi was born in Chicago, Illinois, US...</td>\n      <td>1949-01-24</td>\n      <td>Chicago</td>\n      <td>Illinois</td>\n      <td>USA</td>\n      <td>None</td>\n      <td>1982-03-05</td>\n      <td>Hollywood</td>\n      <td>Los Angeles</td>\n      <td>California</td>\n      <td>USA</td>\n      <td>acute cocaine and heroin intoxication</td>\n      <td>Judith Belushi-Pisano</td>\n      <td>1</td>\n      <td>0</td>\n      <td>0</td>\n      <td>0</td>\n    </tr>\n    <tr>\n      <th>nm0000005</th>\n      <td>Ingmar Bergman</td>\n      <td>Ernst Ingmar Bergman</td>\n      <td>179.0</td>\n      <td>Ernst Ingmar Bergman was born July 14, 1918, t...</td>\n      <td>1918-07-14</td>\n      <td>Uppsala</td>\n      <td>Uppsala län</td>\n      <td>Sweden</td>\n      <td>None</td>\n      <td>2007-07-30</td>\n      <td>Fårö</td>\n      <td>Gotlands län</td>\n      <td>Sweden</td>\n      <td>None</td>\n      <td>natural causes</td>\n      <td>Ingrid Bergman</td>\n      <td>5</td>\n      <td>4</td>\n      <td>5</td>\n      <td>8</td>\n    </tr>\n    <tr>\n      <th>...</th>\n      <td>...</td>\n      <td>...</td>\n      <td>...</td>\n      <td>...</td>\n      <td>...</td>\n      <td>...</td>\n      <td>...</td>\n      <td>...</td>\n      <td>...</td>\n      <td>...</td>\n      <td>...</td>\n      <td>...</td>\n      <td>...</td>\n      <td>...</td>\n      <td>...</td>\n      <td>...</td>\n      <td>...</td>\n      <td>...</td>\n      <td>...</td>\n      <td>...</td>\n    </tr>\n    <tr>\n      <th>nm5474275</th>\n      <td>Sunay Terzioglu</td>\n      <td>Sunay Terzioglu</td>\n      <td>NaN</td>\n      <td>NaN</td>\n      <td>NaN</td>\n      <td>NaN</td>\n      <td>NaN</td>\n      <td>NaN</td>\n      <td>NaN</td>\n      <td>NaN</td>\n      <td>NaN</td>\n      <td>NaN</td>\n      <td>NaN</td>\n      <td>NaN</td>\n      <td>NaN</td>\n      <td>NaN</td>\n      <td>0</td>\n      <td>0</td>\n      <td>0</td>\n      <td>0</td>\n    </tr>\n    <tr>\n      <th>nm5909653</th>\n      <td>Sung Lim Ju</td>\n      <td>Sung Lim Ju</td>\n      <td>NaN</td>\n      <td>NaN</td>\n      <td>NaN</td>\n      <td>NaN</td>\n      <td>NaN</td>\n      <td>NaN</td>\n      <td>NaN</td>\n      <td>NaN</td>\n      <td>NaN</td>\n      <td>NaN</td>\n      <td>NaN</td>\n      <td>NaN</td>\n      <td>NaN</td>\n      <td>NaN</td>\n      <td>0</td>\n      <td>0</td>\n      <td>0</td>\n      <td>0</td>\n    </tr>\n    <tr>\n      <th>nm5993616</th>\n      <td>Coulee Nazha</td>\n      <td>Gülnezer Bextiyar</td>\n      <td>NaN</td>\n      <td>Coulee Nazha was born on May 2, 1992 in Urumqi...</td>\n      <td>1992-05-02</td>\n      <td>Urumqi</td>\n      <td>Xinjiang</td>\n      <td>China</td>\n      <td>None</td>\n      <td>NaN</td>\n      <td>NaN</td>\n      <td>NaN</td>\n      <td>NaN</td>\n      <td>NaN</td>\n      <td>NaN</td>\n      <td>NaN</td>\n      <td>0</td>\n      <td>0</td>\n      <td>0</td>\n      <td>0</td>\n    </tr>\n    <tr>\n      <th>nm7634163</th>\n      <td>Ge Ou</td>\n      <td>Ge Ou</td>\n      <td>NaN</td>\n      <td>NaN</td>\n      <td>NaN</td>\n      <td>NaN</td>\n      <td>NaN</td>\n      <td>NaN</td>\n      <td>NaN</td>\n      <td>NaN</td>\n      <td>NaN</td>\n      <td>NaN</td>\n      <td>NaN</td>\n      <td>NaN</td>\n      <td>NaN</td>\n      <td>NaN</td>\n      <td>0</td>\n      <td>0</td>\n      <td>0</td>\n      <td>0</td>\n    </tr>\n    <tr>\n      <th>nm3834123</th>\n      <td>Richa Langella</td>\n      <td>Richa Langella</td>\n      <td>170.0</td>\n      <td>Richa Langella, formerly known as Richa Gangop...</td>\n      <td>1986-03-20</td>\n      <td>New Delhi</td>\n      <td>India</td>\n      <td>None</td>\n      <td>None</td>\n      <td>NaN</td>\n      <td>NaN</td>\n      <td>NaN</td>\n      <td>NaN</td>\n      <td>NaN</td>\n      <td>NaN</td>\n      <td>Joe Langella</td>\n      <td>1</td>\n      <td>0</td>\n      <td>0</td>\n      <td>0</td>\n    </tr>\n  </tbody>\n</table>\n<p>297705 rows × 20 columns</p>\n</div>"
     },
     "metadata": {},
     "execution_count": 33
    }
   ],
   "source": [
    "# Rename to clarify column unit of measure\n",
    "clean_names_df = names_df_3.rename(columns={\n",
    "    'height': 'height_cm'\n",
    "})\n",
    "\n",
    "# Drop unnecessary columns and reorder\n",
    "clean_names_df = clean_names_df[['imdb_name_id',\n",
    "                         'name',\n",
    "                         'birth_name',\n",
    "                         'height_cm',\n",
    "                         'bio',\n",
    "                         'date_of_birth',\n",
    "                         'place_of_birth_1',\n",
    "                         'place_of_birth_2',\n",
    "                         'place_of_birth_3',\n",
    "                         'place_of_birth_4',\n",
    "                         'date_of_death',\n",
    "                         'place_of_death_1',\n",
    "                         'place_of_death_2',\n",
    "                         'place_of_death_3',\n",
    "                         'place_of_death_4',\n",
    "                         'reason_of_death',\n",
    "                         'spouse_last',\n",
    "                         'spouses',\n",
    "                         'divorces',\n",
    "                         'spouses_with_children',\n",
    "                         'children'\n",
    "                        ]]\n",
    "\n",
    "clean_names_df.set_index('imdb_name_id', inplace=True)\n",
    "clean_names_df"
   ]
  },
  {
   "cell_type": "code",
   "execution_count": 34,
   "metadata": {},
   "outputs": [],
   "source": [
    "#create connection to db\n",
    "db_connection_string = \"julie:pass@localhost:5432/movie_db\"\n",
    "\n",
    "engine = create_engine(f'postgresql://{db_connection_string}')"
   ]
  },
  {
   "cell_type": "code",
   "execution_count": 35,
   "metadata": {},
   "outputs": [
    {
     "output_type": "execute_result",
     "data": {
      "text/plain": [
       "[]"
      ]
     },
     "metadata": {},
     "execution_count": 35
    }
   ],
   "source": [
    "#check for table names\n",
    "engine.table_names()"
   ]
  },
  {
   "cell_type": "code",
   "execution_count": 36,
   "metadata": {},
   "outputs": [],
   "source": [
    "#load movies table\n",
    "clean_movies_df.to_sql(name=\"movies\",con=engine,if_exists='append',index=False)"
   ]
  },
  {
   "cell_type": "code",
   "execution_count": 37,
   "metadata": {},
   "outputs": [],
   "source": [
    "#load titles table\n",
    "clean_titles_df.to_sql(name=\"titles\",con=engine,if_exists='append',index=False)"
   ]
  },
  {
   "cell_type": "code",
   "execution_count": 38,
   "metadata": {},
   "outputs": [],
   "source": [
    "#load names database\n",
    "clean_names_df.to_sql(name=\"names\",con=engine,if_exists='append',index=False)"
   ]
  },
  {
   "cell_type": "code",
   "execution_count": 39,
   "metadata": {},
   "outputs": [
    {
     "output_type": "stream",
     "name": "stdout",
     "text": [
      "Movies on three streaming platforms:\n"
     ]
    },
    {
     "output_type": "execute_result",
     "data": {
      "text/plain": [
       "                   title\n",
       "0          The Interview\n",
       "1                 Blame!\n",
       "2              Evolution\n",
       "3  No Game No Life: Zero\n",
       "4                The Kid\n",
       "5             Inside Out"
      ],
      "text/html": "<div>\n<style scoped>\n    .dataframe tbody tr th:only-of-type {\n        vertical-align: middle;\n    }\n\n    .dataframe tbody tr th {\n        vertical-align: top;\n    }\n\n    .dataframe thead th {\n        text-align: right;\n    }\n</style>\n<table border=\"1\" class=\"dataframe\">\n  <thead>\n    <tr style=\"text-align: right;\">\n      <th></th>\n      <th>title</th>\n    </tr>\n  </thead>\n  <tbody>\n    <tr>\n      <th>0</th>\n      <td>The Interview</td>\n    </tr>\n    <tr>\n      <th>1</th>\n      <td>Blame!</td>\n    </tr>\n    <tr>\n      <th>2</th>\n      <td>Evolution</td>\n    </tr>\n    <tr>\n      <th>3</th>\n      <td>No Game No Life: Zero</td>\n    </tr>\n    <tr>\n      <th>4</th>\n      <td>The Kid</td>\n    </tr>\n    <tr>\n      <th>5</th>\n      <td>Inside Out</td>\n    </tr>\n  </tbody>\n</table>\n</div>"
     },
     "metadata": {},
     "execution_count": 39
    }
   ],
   "source": [
    "#query movies on three streaming platforms\n",
    "print(\"Movies on three streaming platforms:\")\n",
    "\n",
    "pd.read_sql_query('select title from movies where total_streaming_platforms=3',con=engine)"
   ]
  },
  {
   "cell_type": "code",
   "execution_count": null,
   "metadata": {},
   "outputs": [],
   "source": [
    "\n"
   ]
  }
 ]
}